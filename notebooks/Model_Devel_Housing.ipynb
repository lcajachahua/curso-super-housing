{
 "cells": [
  {
   "cell_type": "markdown",
   "metadata": {
    "_uuid": "bc7c0cc80181349f53eca656f94a233ba5a24855"
   },
   "source": [
    "# Housing Price: Advanced Models"
   ]
  },
  {
   "cell_type": "markdown",
   "metadata": {
    "_uuid": "25c8d67b312aedaf18d321eaa197b162c4b1fe28"
   },
   "source": [
    "<a id=\"content1\"></a>\n",
    "## 1 ) Importing the Modules and Loading the Dataset"
   ]
  },
  {
   "cell_type": "code",
   "execution_count": null,
   "metadata": {
    "_uuid": "fe306398c6247419de28f6b8da43eb4e9adabd45",
    "colab": {},
    "colab_type": "code",
    "id": "1JI18AXTlKff"
   },
   "outputs": [],
   "source": [
    "# Ignore  the warnings\n",
    "import warnings\n",
    "warnings.filterwarnings('always')\n",
    "warnings.filterwarnings('ignore')\n",
    "\n",
    "# data visualisation and manipulation\n",
    "import numpy as np\n",
    "import pandas as pd\n",
    "import matplotlib.pyplot as plt\n",
    "from matplotlib import style\n",
    "from matplotlib.legend_handler import HandlerBase\n",
    "import seaborn as sns\n",
    "import missingno as msno\n",
    "import statsmodels.api as sm\n",
    "#configure\n",
    "# sets matplotlib to inline and displays graphs below the corressponding cell.\n",
    "%matplotlib inline  \n",
    "style.use('fivethirtyeight')\n",
    "sns.set(style='whitegrid',color_codes=True)\n",
    "\n",
    "#import the necessary modelling algos.\n",
    "\n",
    "#classifiaction.\n",
    "from sklearn.linear_model import LogisticRegression\n",
    "from sklearn.svm import LinearSVC,SVC\n",
    "from sklearn.neighbors import KNeighborsClassifier\n",
    "from sklearn.ensemble import RandomForestClassifier,GradientBoostingClassifier\n",
    "from sklearn.tree import DecisionTreeClassifier\n",
    "from sklearn.naive_bayes import GaussianNB\n",
    "from sklearn.neural_network import MLPRegressor\n",
    "\n",
    "#regression\n",
    "from sklearn.linear_model import LinearRegression,Ridge,Lasso,RidgeCV,ElasticNet\n",
    "from sklearn.ensemble import RandomForestRegressor,BaggingRegressor,GradientBoostingRegressor,AdaBoostRegressor\n",
    "from sklearn.svm import SVR\n",
    "from sklearn.neighbors import KNeighborsRegressor\n",
    "\n",
    "#model selection\n",
    "from sklearn.model_selection import train_test_split,cross_validate\n",
    "from sklearn.model_selection import KFold\n",
    "from sklearn.model_selection import GridSearchCV\n",
    "from sklearn.preprocessing import LabelEncoder\n",
    "\n",
    "#evaluation metrics\n",
    "from sklearn.metrics import mean_squared_log_error,mean_squared_error, r2_score,mean_absolute_error # for regression\n",
    "from sklearn.metrics import accuracy_score,precision_score,recall_score,f1_score  # for classification\n",
    "\n",
    "from scipy import stats\n",
    "from scipy.stats import norm, skew   # specifically for staistics\n",
    "\n",
    "import xgboost as xgb\n",
    "from xgboost import plot_importance"
   ]
  },
  {
   "cell_type": "code",
   "execution_count": null,
   "metadata": {
    "_uuid": "2889a16c07b2f71ea611b3f4fdcd52d372eb05f4",
    "colab": {},
    "colab_type": "code",
    "id": "3N2G1LMylKfq"
   },
   "outputs": [],
   "source": [
    "train=pd.read_csv('../data/train.csv')\n",
    "test=pd.read_csv('../data/test.csv')"
   ]
  },
  {
   "cell_type": "markdown",
   "metadata": {
    "_uuid": "516a4a16739f97c372516fd7f6f5565bf182dea8"
   },
   "source": [
    "<a id=\"content2\"></a>\n",
    "## 2 ) Data Preparation"
   ]
  },
  {
   "cell_type": "code",
   "execution_count": null,
   "metadata": {
    "_uuid": "d6c11eae1643c0a6fbeb01925fdad233d88e1cd9",
    "colab": {
     "base_uri": "https://localhost:8080/",
     "height": 34
    },
    "colab_type": "code",
    "id": "lpQgItEJlKgE",
    "outputId": "4cb77d34-bd76-4b24-cba8-7134f12e29c7"
   },
   "outputs": [],
   "source": [
    "df=train.copy()\n",
    "df.head(10)"
   ]
  },
  {
   "cell_type": "code",
   "execution_count": null,
   "metadata": {},
   "outputs": [],
   "source": [
    "df.shape"
   ]
  },
  {
   "cell_type": "code",
   "execution_count": null,
   "metadata": {
    "_uuid": "27935512dd78ebc5dbe37a484393b2a496f638d9",
    "colab": {},
    "colab_type": "code",
    "id": "N5re2y4tlKgQ"
   },
   "outputs": [],
   "source": [
    "df.drop(['Id'],axis=1,inplace=True)\n",
    "test.drop(['Id'],axis=1,inplace=True)"
   ]
  },
  {
   "cell_type": "markdown",
   "metadata": {
    "_uuid": "8a4e196a5b539b145b4b36387468c63b64c479e5"
   },
   "source": [
    "#### MERGING THE TRAIN & TEST SETS"
   ]
  },
  {
   "cell_type": "code",
   "execution_count": null,
   "metadata": {
    "_uuid": "74ff3fb2a712910b84b0c266ec5beb2a5d785bc2",
    "colab": {},
    "colab_type": "code",
    "id": "T4HlzGhB2Uvc"
   },
   "outputs": [],
   "source": [
    "all_data=pd.concat([train,test])"
   ]
  },
  {
   "cell_type": "code",
   "execution_count": null,
   "metadata": {
    "_uuid": "bc1bad854cf9c060ebdb6301a7927cb3e1587001",
    "colab": {
     "base_uri": "https://localhost:8080/",
     "height": 34
    },
    "colab_type": "code",
    "id": "QgqobkHUMTfw",
    "outputId": "98a32181-bc43-4e44-c05e-2f93c03c10cf"
   },
   "outputs": [],
   "source": [
    "print(all_data.shape)\n",
    "all_data = all_data.reset_index(drop=True)"
   ]
  },
  {
   "cell_type": "code",
   "execution_count": null,
   "metadata": {
    "_uuid": "93158fabaab046f39582d156d7d2374e1958f271",
    "colab": {
     "base_uri": "https://localhost:8080/",
     "height": 1071
    },
    "colab_type": "code",
    "id": "sxO9eOMzPrn_",
    "outputId": "62150687-eace-40f4-d3f3-f2cbcfabe5ff"
   },
   "outputs": [],
   "source": [
    "print(all_data.loc[1461:,'SalePrice'])  # note that it is Nan for the values in test set as expected. so we drop it here for now.\n",
    "all_data.drop(['SalePrice'],axis=1,inplace=True)\n"
   ]
  },
  {
   "cell_type": "markdown",
   "metadata": {
    "_uuid": "5f3a23820f7659a0da3f1ace34c9f7bc139d2be0"
   },
   "source": [
    "Most of them are in 'average', 'above avergae' or 'good' categories."
   ]
  },
  {
   "cell_type": "markdown",
   "metadata": {
    "_uuid": "46f7f5741f5aa1707a6299f3001faf697830cbe0",
    "colab": {},
    "colab_type": "code",
    "id": "B3midIVVNiwC"
   },
   "source": [
    "<a id=\"content3\"></a>\n",
    "## 3 ) Missing Values Treatment"
   ]
  },
  {
   "cell_type": "code",
   "execution_count": null,
   "metadata": {
    "_uuid": "70b85d4ee64e0aa64130ee1d5f99ef596a6624de",
    "colab": {},
    "colab_type": "code",
    "id": "Y8uiHcDnVsFy"
   },
   "outputs": [],
   "source": [
    "#delete some features with very high number of missing values.  \n",
    "all_data.drop(['PoolQC','Alley','Fence','Id','MiscFeature'],axis=1,inplace=True)\n"
   ]
  },
  {
   "cell_type": "code",
   "execution_count": null,
   "metadata": {
    "_uuid": "f38666912718e049f2410d25238ef1e3cdef01a2",
    "colab": {},
    "colab_type": "code",
    "id": "EpLjs9I0V40N"
   },
   "outputs": [],
   "source": [
    "test.drop(['PoolQC','Alley','Fence','MiscFeature'],axis=1,inplace=True)\n",
    "df.drop(['PoolQC','Alley','Fence','MiscFeature'],axis=1,inplace=True)"
   ]
  },
  {
   "cell_type": "code",
   "execution_count": null,
   "metadata": {
    "_uuid": "fe2681e864972a546416d134f67f5fc62ec54266",
    "colab": {},
    "colab_type": "code",
    "id": "YVAe7zo4Y9eM"
   },
   "outputs": [],
   "source": [
    "# FireplaceQu\n",
    "# it is useful but many of the values nearly half are missing makes no sense to fill half of the values. so deleting this\n",
    "all_data.drop(['FireplaceQu'],axis=1,inplace=True)\n",
    "test.drop(['FireplaceQu'],axis=1,inplace=True)\n",
    "df.drop(['FireplaceQu'],axis=1,inplace=True)\n"
   ]
  },
  {
   "cell_type": "markdown",
   "metadata": {
    "_uuid": "0c5d8e6743d0d91a200302150885b63677b7aeec"
   },
   "source": [
    "#### Above analysis shows that there is some relation of lot with teh sale price both by scatter plot and also by the corelation value. therefore instead of deleting I will fill the values with the mean."
   ]
  },
  {
   "cell_type": "code",
   "execution_count": null,
   "metadata": {
    "_uuid": "eacffac67f960042b1bf54edce1bf964ab5b3c34",
    "colab": {
     "base_uri": "https://localhost:8080/",
     "height": 34
    },
    "colab_type": "code",
    "id": "GrM9SeT_eV51",
    "outputId": "1238829c-dc72-47e0-e165-088f0a58ee9c"
   },
   "outputs": [],
   "source": [
    "all_data['LotFrontage'].fillna(np.mean(all_data['LotFrontage']),inplace=True)\n",
    "all_data['LotFrontage'].isna().sum()"
   ]
  },
  {
   "cell_type": "code",
   "execution_count": null,
   "metadata": {
    "_uuid": "f45752ff4b70d6fb1f7a9360ef33554e34513d7d",
    "colab": {
     "base_uri": "https://localhost:8080/",
     "height": 136
    },
    "colab_type": "code",
    "id": "HVTiAhW0fdUD",
    "outputId": "1071cff2-6a96-48f6-e167-00a9ddd0b912"
   },
   "outputs": [],
   "source": [
    "#Garage  related features.\n",
    "# these features eg like garage qual,cond,finish,type seems to be important and relevant for buying car. \n",
    "# hence I will not drop these features insted i will fill them with the 'none' for categorical and 0 for numeric as nan here implies that there is no garage.\n",
    "\n",
    "all_data['GarageYrBlt'].fillna(0,inplace=True)\n",
    "print(all_data['GarageYrBlt'].isnull().sum())\n",
    "\n",
    "all_data['GarageArea'].fillna(0,inplace=True)\n",
    "print(all_data['GarageArea'].isnull().sum())\n",
    "\n",
    "all_data['GarageCars'].fillna(0,inplace=True)\n",
    "print(all_data['GarageCars'].isnull().sum())\n",
    "\n",
    "all_data['GarageQual'].fillna('None',inplace=True)   # creating a separate category 'none' which means no garage.\n",
    "print(all_data['GarageQual'].isnull().sum())\n",
    "\n",
    "all_data['GarageFinish'].fillna('None',inplace=True)   # creating a separate category 'none' which means no garage.\n",
    "print(all_data['GarageFinish'].isnull().sum())\n",
    "\n",
    "all_data['GarageCond'].fillna('None',inplace=True)   # creating a separate category 'none' which means no garage.\n",
    "print(all_data['GarageCond'].isnull().sum())\n",
    "\n",
    "all_data['GarageType'].fillna('None',inplace=True)   # creating a separate category 'none' which means no garage.\n",
    "print(all_data['GarageType'].isnull().sum())"
   ]
  },
  {
   "cell_type": "code",
   "execution_count": null,
   "metadata": {
    "_uuid": "e6fec292343a882f280f4c911960ef4bbf1e6240",
    "colab": {
     "base_uri": "https://localhost:8080/",
     "height": 34
    },
    "colab_type": "code",
    "id": "5FVm7T-TJcOp",
    "outputId": "e54543e3-ef00-4437-ea38-c9c07bfc21bd"
   },
   "outputs": [],
   "source": [
    "# basement related features.\n",
    "#missing values are likely zero for having no basement\n",
    "for col in ('BsmtFinSF1', 'BsmtFinSF2', 'BsmtUnfSF','TotalBsmtSF', 'BsmtFullBath', 'BsmtHalfBath'):\n",
    "    all_data[col].fillna(0,inplace=True)\n",
    "    \n",
    "# for categorical features we will create a separate class 'none' as before.\n",
    "for col in ('BsmtQual', 'BsmtCond', 'BsmtExposure', 'BsmtFinType1', 'BsmtFinType2'):\n",
    "    all_data[col].fillna('None',inplace=True)\n",
    "    \n",
    "print(all_data['TotalBsmtSF'].isnull().sum())"
   ]
  },
  {
   "cell_type": "code",
   "execution_count": null,
   "metadata": {
    "_uuid": "2c2af2fb54c9298db6975568a8b4cf1fb73eefe8",
    "colab": {
     "base_uri": "https://localhost:8080/",
     "height": 51
    },
    "colab_type": "code",
    "id": "9kVtbvQ9fDI-",
    "outputId": "61669f93-0d95-48b1-924b-237ed036d3ee"
   },
   "outputs": [],
   "source": [
    "# MasVnrArea 0 and MasVnrType 'None'.\n",
    "all_data['MasVnrArea'].fillna(0,inplace=True)\n",
    "print(all_data['MasVnrArea'].isnull().sum())\n",
    "\n",
    "all_data['MasVnrType'].fillna('None',inplace=True)\n",
    "print(all_data['MasVnrType'].isnull().sum())"
   ]
  },
  {
   "cell_type": "code",
   "execution_count": null,
   "metadata": {
    "_uuid": "76542b40795ba9a8bc8c1d012279d0051c919dd9",
    "colab": {
     "base_uri": "https://localhost:8080/",
     "height": 34
    },
    "colab_type": "code",
    "id": "TGcPNw3eh0oM",
    "outputId": "88de891b-bfdb-491b-d4e6-fa380b7069e3"
   },
   "outputs": [],
   "source": [
    "#MSZoning.\n",
    "# Here nan does not mean no so I will with the most common one ie the mode.\n",
    "all_data['MSZoning'].fillna(all_data['MSZoning'].mode()[0],inplace=True)\n",
    "print(all_data['MSZoning'].isnull().sum())"
   ]
  },
  {
   "cell_type": "code",
   "execution_count": null,
   "metadata": {
    "_uuid": "73aeea1cdf2bb20e9f8dd8f3323cdea87edcd964",
    "colab": {
     "base_uri": "https://localhost:8080/",
     "height": 34
    },
    "colab_type": "code",
    "id": "GQKczgCbqwEo",
    "outputId": "f396e006-4445-403c-f73c-50f400abf99e"
   },
   "outputs": [],
   "source": [
    "#functional\n",
    "# fill with mode\n",
    "all_data['Functional'].fillna(all_data['Functional'].mode()[0],inplace=True)\n",
    "print(all_data['Functional'].isnull().sum())"
   ]
  },
  {
   "cell_type": "code",
   "execution_count": null,
   "metadata": {
    "_uuid": "fbedd807e1c4f622da5ed03ea7df60b60a19df8d",
    "colab": {
     "base_uri": "https://localhost:8080/",
     "height": 102
    },
    "colab_type": "code",
    "id": "CGfbRZL8rMeL",
    "outputId": "902de455-a075-42de-dba6-cf43913a12cc"
   },
   "outputs": [],
   "source": [
    "# other rem columns rae all cat like kitchen qual etc.. and so filled with mode.\n",
    "for col in ['SaleType','KitchenQual','Exterior2nd','Exterior1st','Electrical']:\n",
    "  all_data[col].fillna(all_data[col].mode()[0],inplace=True)\n",
    "  print(all_data[col].isnull().sum())"
   ]
  },
  {
   "cell_type": "markdown",
   "metadata": {
    "_uuid": "ba514bda4d20b3f112faade1999f227e531e0b3a"
   },
   "source": [
    "#### Lastly checking if any null value still remains."
   ]
  },
  {
   "cell_type": "code",
   "execution_count": null,
   "metadata": {
    "_uuid": "e1ff655694d7491bbddc2a4b2aa8dc50b4107a8e",
    "colab": {
     "base_uri": "https://localhost:8080/",
     "height": 49
    },
    "colab_type": "code",
    "id": "9bgxDFPXtAKx",
    "outputId": "f6f86f66-0227-4baf-b2fd-d894e0c0d5e8"
   },
   "outputs": [],
   "source": [
    "nan_all_data = (all_data.isnull().sum())\n",
    "nan_all_data= nan_all_data.drop(nan_all_data[nan_all_data== 0].index).sort_values(ascending=False)\n",
    "nan_all_data\n",
    "miss_df = pd.DataFrame({'Missing Ratio' :nan_all_data})\n",
    "miss_df"
   ]
  },
  {
   "cell_type": "markdown",
   "metadata": {
    "_uuid": "5ab57510ff5cdc2f0abb8a31ff8130d03a204dcf",
    "colab": {},
    "colab_type": "code",
    "id": "Dw_6EQsptalc"
   },
   "source": [
    "#### Finally no null value remain now;)"
   ]
  },
  {
   "cell_type": "code",
   "execution_count": null,
   "metadata": {
    "_uuid": "69a3a9f93644be3187e861034d0f70eec2bb6103"
   },
   "outputs": [],
   "source": [
    "all_data.drop(['Utilities'],axis=1,inplace=True)\n",
    "all_data.drop(['3SsnPorch'],axis=1,inplace=True)\n",
    "all_data.drop(['BedroomAbvGr'],axis=1,inplace=True)\n",
    "all_data.drop(['BldgType'],axis=1,inplace=True)\n",
    "all_data.drop(['BsmtCond'],axis=1,inplace=True)\n",
    "all_data.drop(['BsmtExposure'],axis=1,inplace=True)\n",
    "all_data.drop(['BsmtFinSF2'],axis=1,inplace=True)\n",
    "all_data.drop(['BsmtFinType1'],axis=1,inplace=True)\n",
    "all_data.drop(['BsmtFinType2'],axis=1,inplace=True)\n",
    "all_data.drop(['BsmtHalfBath'],axis=1,inplace=True)\n",
    "all_data.drop(['Condition1'],axis=1,inplace=True)\n",
    "all_data.drop(['Condition2'],axis=1,inplace=True)\n",
    "all_data.drop(['Electrical'],axis=1,inplace=True)\n",
    "all_data.drop(['EnclosedPorch'],axis=1,inplace=True)\n",
    "all_data.drop(['ExterCond'],axis=1,inplace=True)\n",
    "all_data.drop(['Exterior1st'],axis=1,inplace=True)\n",
    "all_data.drop(['Exterior2nd'],axis=1,inplace=True)\n",
    "all_data.drop(['ExterQual'],axis=1,inplace=True)\n",
    "all_data.drop(['Foundation'],axis=1,inplace=True)\n",
    "all_data.drop(['FullBath'],axis=1,inplace=True)\n",
    "all_data.drop(['Functional'],axis=1,inplace=True)\n",
    "all_data.drop(['GarageCond'],axis=1,inplace=True)\n",
    "all_data.drop(['GarageFinish'],axis=1,inplace=True)\n",
    "all_data.drop(['GarageQual'],axis=1,inplace=True)\n",
    "all_data.drop(['GarageType'],axis=1,inplace=True)\n",
    "all_data.drop(['HalfBath'],axis=1,inplace=True)\n",
    "all_data.drop(['Heating'],axis=1,inplace=True)\n",
    "all_data.drop(['HeatingQC'],axis=1,inplace=True)\n",
    "all_data.drop(['HouseStyle'],axis=1,inplace=True)\n",
    "all_data.drop(['KitchenQual'],axis=1,inplace=True)\n",
    "all_data.drop(['LandContour'],axis=1,inplace=True)\n",
    "all_data.drop(['LandSlope'],axis=1,inplace=True)\n",
    "all_data.drop(['LotConfig'],axis=1,inplace=True)\n",
    "all_data.drop(['LotShape'],axis=1,inplace=True)\n",
    "all_data.drop(['LowQualFinSF'],axis=1,inplace=True)\n",
    "all_data.drop(['MasVnrArea'],axis=1,inplace=True)\n",
    "all_data.drop(['MasVnrType'],axis=1,inplace=True)\n",
    "all_data.drop(['MiscVal'],axis=1,inplace=True)\n",
    "all_data.drop(['MSSubClass'],axis=1,inplace=True)\n",
    "all_data.drop(['PavedDrive'],axis=1,inplace=True)\n",
    "all_data.drop(['PoolArea'],axis=1,inplace=True)\n",
    "all_data.drop(['RoofMatl'],axis=1,inplace=True)\n",
    "all_data.drop(['RoofStyle'],axis=1,inplace=True)\n",
    "all_data.drop(['SaleType'],axis=1,inplace=True)\n",
    "all_data.drop(['Street'],axis=1,inplace=True)\n",
    "all_data.drop(['TotRmsAbvGrd'],axis=1,inplace=True)\n",
    "all_data.drop(['YrSold'],axis=1,inplace=True)"
   ]
  },
  {
   "cell_type": "markdown",
   "metadata": {
    "_uuid": "d60bda46c5320fae186cbf903921a2ff87c35074"
   },
   "source": [
    "<a id=\"content5\"></a>\n",
    "## 5 ) Prepare the Data"
   ]
  },
  {
   "cell_type": "code",
   "execution_count": null,
   "metadata": {
    "_uuid": "312389634b0670d37cc3713d8460959ed6441630",
    "colab": {},
    "colab_type": "code",
    "id": "wXsWJvV1wFih"
   },
   "outputs": [],
   "source": [
    "for col in all_data.columns:\n",
    "    if(all_data[col].dtype == 'object'):\n",
    "        le=LabelEncoder()\n",
    "        all_data[col]=le.fit_transform(all_data[col])"
   ]
  },
  {
   "cell_type": "markdown",
   "metadata": {
    "_uuid": "4c80e36bb26ef306243b2fd2d185ee8ba876d5ed"
   },
   "source": [
    "## 6 ) Regression Models"
   ]
  },
  {
   "cell_type": "code",
   "execution_count": null,
   "metadata": {
    "_uuid": "f74e9522e62edd161a7e6454bf8c228e0ef2cd6f",
    "colab": {},
    "colab_type": "code",
    "id": "vQvA2psvuIxs"
   },
   "outputs": [],
   "source": [
    "train=all_data.loc[:(df.shape)[0]+2,:]\n",
    "test=all_data.loc[(df.shape)[0]+2:,:]"
   ]
  },
  {
   "cell_type": "code",
   "execution_count": null,
   "metadata": {
    "_uuid": "498023c0be50cbcab456bfe829b4b5d16896f323",
    "colab": {
     "base_uri": "https://localhost:8080/",
     "height": 34
    },
    "colab_type": "code",
    "id": "BmYWTpiIudCF",
    "outputId": "4646f8fa-4554-4463-b6d2-28a2fc762443"
   },
   "outputs": [],
   "source": [
    "train['SalePrice']=df['SalePrice']\n",
    "train['SalePrice'].fillna(np.mean(train['SalePrice']),inplace=True)\n",
    "train.shape\n",
    "print(train['SalePrice'].isnull().sum())"
   ]
  },
  {
   "cell_type": "code",
   "execution_count": null,
   "metadata": {
    "_uuid": "def82a6baf6ce194c02c3e5956e28af81852dd67",
    "colab": {
     "base_uri": "https://localhost:8080/",
     "height": 51
    },
    "colab_type": "code",
    "id": "IzfFpt4TvNhP",
    "outputId": "886588f2-00d2-4847-a51b-cdcc1bcd99ba"
   },
   "outputs": [],
   "source": [
    "print(train.shape)\n",
    "print(test.shape)"
   ]
  },
  {
   "cell_type": "code",
   "execution_count": null,
   "metadata": {
    "_uuid": "e4e66c811fa201617bc95116deb7172c9afb5e92",
    "colab": {},
    "colab_type": "code",
    "id": "9nbaJ_0PvV_Z"
   },
   "outputs": [],
   "source": [
    "resultR2=[]\n",
    "resultRMSE=[]\n",
    "resultModel=[]"
   ]
  },
  {
   "cell_type": "markdown",
   "metadata": {
    "_uuid": "7b1193e60a51ea6655f9cc85a686923084d77943"
   },
   "source": [
    "#### LINEAR REGRESSION"
   ]
  },
  {
   "cell_type": "code",
   "execution_count": null,
   "metadata": {
    "_uuid": "6b9382b81c30023b140bdba176c31797385cd5c9",
    "colab": {
     "base_uri": "https://localhost:8080/",
     "height": 34
    },
    "colab_type": "code",
    "id": "TS6hi7x1vq1z",
    "outputId": "a2c203bc-b9ff-4883-dfb6-e3a93393f2e3"
   },
   "outputs": [],
   "source": [
    "for i in range(1,51):\n",
    "    x_train,x_test,y_train,y_test=train_test_split(train.drop(['SalePrice'],axis=1),train['SalePrice'],test_size=0.20,random_state=i)\n",
    "    reg_lin=LinearRegression()\n",
    "    reg_lin.fit(x_train,y_train)\n",
    "    pred=reg_lin.predict(x_test)\n",
    "    resultR2.append(r2_score(y_test,pred))\n",
    "    resultRMSE.append(np.sqrt(mean_squared_error(y_test,pred)))\n",
    "    resultModel.append(\"RegLin\")\n",
    "print(\"R2 Medio: \", np.mean(resultR2))\n",
    "print(\"RMSE Medio: \", np.mean(resultRMSE))"
   ]
  },
  {
   "cell_type": "markdown",
   "metadata": {
    "_uuid": "f897b88b90a2c2af032eaf8a0d0bc7d2fb7fedba"
   },
   "source": [
    "#### LASSO (and tuning with GridSearchCV)"
   ]
  },
  {
   "cell_type": "code",
   "execution_count": null,
   "metadata": {
    "_uuid": "519732e88f3adb346e5df293d3b6dca7161305eb",
    "colab": {
     "base_uri": "https://localhost:8080/",
     "height": 34
    },
    "colab_type": "code",
    "id": "_847HJkh7VND",
    "outputId": "e4724acf-71b6-4a9d-ac2f-ffb209639075"
   },
   "outputs": [],
   "source": [
    "for i in range(1,51):\n",
    "    x_train,x_test,y_train,y_test=train_test_split(train.drop(['SalePrice'],axis=1),train['SalePrice'],test_size=0.20,random_state=i)\n",
    "    params_dict={'alpha':[0.05,0.1,0.5,1], 'random_state':[7]}\n",
    "    reg_lasso_CV=GridSearchCV(estimator=Lasso(),param_grid=params_dict,scoring='neg_mean_squared_error',cv=10)\n",
    "    reg_lasso_CV.fit(x_train,y_train)\n",
    "    pred=reg_lasso_CV.predict(x_test)\n",
    "    resultR2.append(r2_score(y_test,pred))\n",
    "    resultRMSE.append(np.sqrt(mean_squared_error(y_test,pred)))\n",
    "    resultModel.append(\"LASSO\")\n",
    "print(\"R2 Medio: \", np.mean(resultR2[50:99]))\n",
    "print(\"RMSE Medio: \", np.mean(resultRMSE[50:99]))"
   ]
  },
  {
   "cell_type": "code",
   "execution_count": null,
   "metadata": {},
   "outputs": [],
   "source": [
    "reg_lasso_CV.best_estimator_"
   ]
  },
  {
   "cell_type": "markdown",
   "metadata": {
    "_uuid": "51cd48ecb704744b024947fea49a29a0946f9e91"
   },
   "source": [
    "#### RIDGE (and tuning with GridSearchCV)"
   ]
  },
  {
   "cell_type": "code",
   "execution_count": null,
   "metadata": {
    "_uuid": "27dbf2110c9d68428c5cc79f0986bd172bdffd28",
    "colab": {
     "base_uri": "https://localhost:8080/",
     "height": 34
    },
    "colab_type": "code",
    "id": "h6v9m8XvM8CE",
    "outputId": "cf214a27-7b2d-4501-fc02-2eb151a0b273"
   },
   "outputs": [],
   "source": [
    "for i in range(1,51):\n",
    "    x_train,x_test,y_train,y_test=train_test_split(train.drop(['SalePrice'],axis=1),train['SalePrice'],test_size=0.20,random_state=i)\n",
    "    params_dict={'alpha':[0.05,0.1,0.5,1], 'random_state':[7]}\n",
    "    reg_ridge_CV=GridSearchCV(estimator=Ridge(),param_grid=params_dict,scoring='neg_mean_squared_error',cv=10)\n",
    "    reg_ridge_CV.fit(x_train,y_train)\n",
    "    pred=reg_ridge_CV.predict(x_test)\n",
    "    resultR2.append(r2_score(y_test,pred))\n",
    "    resultRMSE.append(np.sqrt(mean_squared_error(y_test,pred)))\n",
    "    resultModel.append(\"RIDGE\")\n",
    "print(\"R2 Medio: \", np.mean(resultR2[100:149]))\n",
    "print(\"RMSE Medio: \", np.mean(resultRMSE[100:149]))"
   ]
  },
  {
   "cell_type": "code",
   "execution_count": null,
   "metadata": {},
   "outputs": [],
   "source": [
    "reg_ridge_CV.best_estimator_"
   ]
  },
  {
   "cell_type": "markdown",
   "metadata": {
    "_uuid": "f51822af54321c643beed1fbe7c538bba463563c"
   },
   "source": [
    "#### GRADIENT BOOSTING"
   ]
  },
  {
   "cell_type": "code",
   "execution_count": null,
   "metadata": {
    "_uuid": "2fab514d917340d537eba886ed3d7d394bd25208",
    "colab": {
     "base_uri": "https://localhost:8080/",
     "height": 34
    },
    "colab_type": "code",
    "id": "Ui-TWe7dBGS1",
    "outputId": "d5cb8bbb-6d64-4542-c285-4b94eb81cb02"
   },
   "outputs": [],
   "source": [
    "for i in range(1,51):\n",
    "    x_train,x_test,y_train,y_test=train_test_split(train.drop(['SalePrice'],axis=1),train['SalePrice'],test_size=0.20,random_state=i)\n",
    "    reg_gb=GradientBoostingRegressor(n_estimators=1000,learning_rate=0.05,max_depth=3,min_samples_split=10,max_features='sqrt',subsample=0.75,random_state=7,loss='huber')\n",
    "    reg_gb.fit(x_train,y_train)\n",
    "    pred=reg_gb.predict(x_test)\n",
    "    resultR2.append(r2_score(y_test,pred))\n",
    "    resultRMSE.append(np.sqrt(mean_squared_error(y_test,pred)))\n",
    "    resultModel.append(\"GradBoost\")\n",
    "print(\"R2 Medio: \", np.mean(resultR2[150:199]))\n",
    "print(\"RMSE Medio: \", np.mean(resultRMSE[150:199]))"
   ]
  },
  {
   "cell_type": "markdown",
   "metadata": {
    "_uuid": "e841d23995587b72e9eddc0206b016fb715feace"
   },
   "source": [
    "#### XGBoost"
   ]
  },
  {
   "cell_type": "code",
   "execution_count": null,
   "metadata": {
    "_uuid": "0ea75f225380c2d7ba15993273aff081a9fea9ff",
    "colab": {
     "base_uri": "https://localhost:8080/",
     "height": 34
    },
    "colab_type": "code",
    "id": "MLpTvMXC9Xsf",
    "outputId": "15f1813c-98d2-47e9-b53b-962f6605c650"
   },
   "outputs": [],
   "source": [
    "for i in range(1,51):\n",
    "    x_train,x_test,y_train,y_test=train_test_split(train.drop(['SalePrice'],axis=1),train['SalePrice'],test_size=0.20,random_state=i)\n",
    "    model_xgb = xgb.XGBRegressor(colsample_bytree=0.5,\n",
    "                             learning_rate=0.05, max_depth=3, \n",
    "                             min_child_weight=2, n_estimators=1000,\n",
    "                             subsample=0.6,\n",
    "                             random_state =7, nthread = -1)\n",
    "    model_xgb.fit(x_train,y_train)\n",
    "    pred=model_xgb.predict(x_test)\n",
    "    resultR2.append(r2_score(y_test,pred))\n",
    "    resultRMSE.append(np.sqrt(mean_squared_error(y_test,pred)))\n",
    "    resultModel.append(\"XGBoost\")\n",
    "print(\"R2 Medio: \", np.mean(resultR2[200:249]))\n",
    "print(\"RMSE Medio: \", np.mean(resultRMSE[200:249]))"
   ]
  },
  {
   "cell_type": "markdown",
   "metadata": {},
   "source": [
    "### Neural Net (Multi Layer Perceptron for Regression)"
   ]
  },
  {
   "cell_type": "code",
   "execution_count": null,
   "metadata": {},
   "outputs": [],
   "source": [
    "for i in range(1,51):\n",
    "    x_train,x_test,y_train,y_test=train_test_split(train.drop(['SalePrice'],axis=1),train['SalePrice'],test_size=0.20,random_state=i)\n",
    "    model_mlp = MLPRegressor(solver='lbfgs', hidden_layer_sizes=40, max_iter=150, learning_rate_init=0.001, random_state =7)\n",
    "    model_mlp.fit(x_train,y_train)\n",
    "    pred=model_mlp.predict(x_test)\n",
    "    resultR2.append(r2_score(y_test,pred))\n",
    "    resultRMSE.append(np.sqrt(mean_squared_error(y_test,pred)))\n",
    "    resultModel.append(\"MLP\")\n",
    "print(\"R2 Medio: \", np.mean(resultR2[250:299]))\n",
    "print(\"RMSE Medio: \", np.mean(resultRMSE[250:299]))"
   ]
  },
  {
   "cell_type": "markdown",
   "metadata": {},
   "source": [
    "#### Exporting stats"
   ]
  },
  {
   "cell_type": "code",
   "execution_count": null,
   "metadata": {
    "_uuid": "17e7d3a42e92c46a7a8d57b9fc7a3fa8007976cc"
   },
   "outputs": [],
   "source": [
    "test_id=[]\n",
    "for i in range (1,301):\n",
    "    test_id.append(i)\n",
    "d={'Id':test_id,'Model':resultModel,'R2':resultR2,'RMSE':resultRMSE}\n",
    "ans_df=pd.DataFrame(d)\n",
    "ans_df.to_csv('../docs/Models.csv',index=False)"
   ]
  },
  {
   "cell_type": "markdown",
   "metadata": {},
   "source": [
    "#### Comparing Models by R2"
   ]
  },
  {
   "cell_type": "code",
   "execution_count": null,
   "metadata": {
    "_uuid": "7cb2ae4d499da46f31df968031a9747847980424"
   },
   "outputs": [],
   "source": [
    "sns.factorplot(data=ans_df,x='Model',y='R2',kind='box',size=5,aspect=1.5)"
   ]
  },
  {
   "cell_type": "markdown",
   "metadata": {},
   "source": [
    "#### Comparing Models by RMSE"
   ]
  },
  {
   "cell_type": "code",
   "execution_count": null,
   "metadata": {},
   "outputs": [],
   "source": [
    "sns.factorplot(data=ans_df,x='Model',y='RMSE',kind='box',size=5,aspect=1.5)"
   ]
  },
  {
   "cell_type": "markdown",
   "metadata": {},
   "source": [
    "## 7 ) Best Models"
   ]
  },
  {
   "cell_type": "markdown",
   "metadata": {},
   "source": [
    "#### Best Model in the original Notebook"
   ]
  },
  {
   "cell_type": "code",
   "execution_count": null,
   "metadata": {},
   "outputs": [],
   "source": [
    "model_xgb = xgb.XGBRegressor(colsample_bytree=0.4603, gamma=0.0468, \n",
    "                             learning_rate=0.05, max_depth=3, \n",
    "                             min_child_weight=1.7817, n_estimators=2200,\n",
    "                             reg_alpha=0.4640, reg_lambda=0.8571,\n",
    "                             subsample=0.5213, \n",
    "                             random_state =7)\n",
    "model_xgb.fit(x_train,y_train)\n",
    "pred=model_xgb.predict(x_test)\n",
    "print(\"RSME: \",np.sqrt(mean_squared_error(y_test,pred)))\n",
    "print(\"R2: \",r2_score(y_test,pred))"
   ]
  },
  {
   "cell_type": "markdown",
   "metadata": {},
   "source": [
    "#### Changing some parameters"
   ]
  },
  {
   "cell_type": "code",
   "execution_count": null,
   "metadata": {},
   "outputs": [],
   "source": [
    "modelxgb=xgb.XGBRegressor(n_jobs=-1,learning_rate=.05,max_depth=3,colsample_bytree=1,verbosity=0,\n",
    "                      subsample=1,n_estimators=1000,random_state=7)\n",
    "modelxgb.fit(x_train,y_train)\n",
    "predxgb=modelxgb.predict(x_test)\n",
    "print(\"RSME: \",np.sqrt(mean_squared_error(y_test,predxgb)))\n",
    "print(\"R2: \",r2_score(y_test,predxgb))"
   ]
  },
  {
   "cell_type": "markdown",
   "metadata": {},
   "source": [
    "#### Tuning parameters with GridSearchCV "
   ]
  },
  {
   "cell_type": "code",
   "execution_count": null,
   "metadata": {},
   "outputs": [],
   "source": [
    "parameters = {'nthread':[-1], #when use hyperthread, xgboost may become slower\n",
    "              'learning_rate': [0.05,0.03], #so called `eta` value\n",
    "              'max_depth': [2,3],\n",
    "              'min_child_weight': [2],\n",
    "              'subsample': [0.9,1],\n",
    "              'colsample_bytree': [0.9,1],\n",
    "              'n_estimators': [500,1000], #number of trees, change it to 1000 for better results\n",
    "              'missing':[-999],\n",
    "              'seed': [1234]}"
   ]
  },
  {
   "cell_type": "code",
   "execution_count": null,
   "metadata": {},
   "outputs": [],
   "source": [
    "clf = GridSearchCV(model_xgb, parameters, n_jobs=5, \n",
    "                   cv=5, \n",
    "                   scoring='neg_mean_squared_error',\n",
    "                   verbose=2, refit=True)\n",
    "clf.fit(x_train,y_train)\n",
    "predxgb=clf.predict(x_test)\n",
    "print(\"RSME: \",np.sqrt(mean_squared_error(y_test,predxgb)))\n",
    "print(\"R2: \",r2_score(y_test,predxgb))"
   ]
  },
  {
   "cell_type": "code",
   "execution_count": null,
   "metadata": {},
   "outputs": [],
   "source": [
    "clf.best_estimator_"
   ]
  },
  {
   "cell_type": "markdown",
   "metadata": {},
   "source": [
    "#### Best XGBoost:"
   ]
  },
  {
   "cell_type": "code",
   "execution_count": null,
   "metadata": {},
   "outputs": [],
   "source": [
    "modelxgb=xgb.XGBRegressor(n_jobs=-1,learning_rate=.05,max_depth=3,colsample_bytree=1,verbosity=0,\n",
    "                      subsample=0.9,n_estimators=500,random_state=7)\n",
    "modelxgb.fit(x_train,y_train)\n",
    "predxgb=modelxgb.predict(x_test)\n",
    "print(\"RSME: \",np.sqrt(mean_squared_error(y_test,predxgb)))\n",
    "print(\"R2: \",r2_score(y_test,predxgb))"
   ]
  },
  {
   "cell_type": "markdown",
   "metadata": {},
   "source": [
    "Copyright 2022. Elaborado por Luis Cajachahua bajo licencia MIT"
   ]
  }
 ],
 "metadata": {
  "accelerator": "GPU",
  "colab": {
   "collapsed_sections": [],
   "name": "Housing Price Adv Reg.ipynb",
   "provenance": [],
   "version": "0.3.2"
  },
  "kernelspec": {
   "display_name": "Python 3",
   "language": "python",
   "name": "python3"
  },
  "language_info": {
   "codemirror_mode": {
    "name": "ipython",
    "version": 3
   },
   "file_extension": ".py",
   "mimetype": "text/x-python",
   "name": "python",
   "nbconvert_exporter": "python",
   "pygments_lexer": "ipython3",
   "version": "3.8.8"
  }
 },
 "nbformat": 4,
 "nbformat_minor": 4
}
